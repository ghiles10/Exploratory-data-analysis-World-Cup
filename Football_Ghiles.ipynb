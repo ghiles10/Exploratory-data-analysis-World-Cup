{
 "cells": [
  {
   "cell_type": "markdown",
   "id": "15c32e69-73a2-45a9-b3c9-62cd583088c3",
   "metadata": {},
   "source": [
    "# Importing modules and setting parameters "
   ]
  },
  {
   "cell_type": "code",
   "execution_count": null,
   "id": "41c583f8-a332-4db0-96ea-015fabf58038",
   "metadata": {},
   "outputs": [],
   "source": [
    "import numpy as np\n",
    "import pandas as pd \n",
    "import matplotlib.pyplot as plt \n",
    "import seaborn as sns \n",
    "\n",
    "%matplotlib inline\n",
    "plt.style.use('ggplot')\n",
    "plt.rcParams['figure.figsize'] = (12, 8) \n",
    "sns.set('talk', rc={'figure.figsize': (12, 8)})"
   ]
  },
  {
   "cell_type": "markdown",
   "id": "4beb7117-7ab6-42c3-ba65-09c59207415d",
   "metadata": {},
   "source": [
    "# Database loading"
   ]
  },
  {
   "cell_type": "code",
   "execution_count": null,
   "id": "83e31d9c-5282-4a81-8c14-5731237b1157",
   "metadata": {},
   "outputs": [],
   "source": [
    "df = pd.read_csv('data/WorldCupMatches.csv') "
   ]
  },
  {
   "cell_type": "markdown",
   "id": "800b1d2b-223c-4a2c-b1d9-02b31e873716",
   "metadata": {},
   "source": [
    "## First analysis "
   ]
  },
  {
   "cell_type": "code",
   "execution_count": null,
   "id": "370bd70b-1fa3-401f-8f81-414cf0121561",
   "metadata": {},
   "outputs": [],
   "source": [
    "df.shape"
   ]
  },
  {
   "cell_type": "code",
   "execution_count": null,
   "id": "92556297-7711-48f5-b8ab-aa8d926abd89",
   "metadata": {},
   "outputs": [],
   "source": [
    "df.head()"
   ]
  },
  {
   "cell_type": "code",
   "execution_count": null,
   "id": "2d88e735-78cf-43ff-806e-6cf4d7642a11",
   "metadata": {},
   "outputs": [],
   "source": [
    "df.sample(4)"
   ]
  },
  {
   "cell_type": "markdown",
   "id": "be5d9105-5bc9-4134-b9ce-ac6d46e7c47b",
   "metadata": {},
   "source": [
    "# Data cleaning "
   ]
  },
  {
   "cell_type": "code",
   "execution_count": null,
   "id": "425d4b34-69dc-4b37-84ce-4e803171aa5f",
   "metadata": {},
   "outputs": [],
   "source": [
    "df.info()"
   ]
  },
  {
   "cell_type": "code",
   "execution_count": null,
   "id": "259f76a3-ca5a-47cc-b89c-2c89e326318e",
   "metadata": {},
   "outputs": [],
   "source": [
    "## suppression of superfluous variables\n",
    "df.drop(['Home Team Initials', 'Away Team Initials', 'MatchID', 'RoundID', 'Assistant 2', 'Assistant 1', 'Win conditions','Stage'], axis = 1, inplace = True) "
   ]
  },
  {
   "cell_type": "code",
   "execution_count": null,
   "id": "f1b64ff0-b434-4d12-810a-43fe6c740d72",
   "metadata": {},
   "outputs": [],
   "source": [
    "# to datetime \n",
    "df['Datetime'] = pd.to_datetime(df['Datetime'])\n",
    "df['Month'] = df['Datetime'].dt.month\n",
    "df['game time'] = df['Datetime'].dt.hour\n",
    "df.drop(['Datetime'], axis = 1, inplace = True) "
   ]
  },
  {
   "cell_type": "code",
   "execution_count": null,
   "id": "8ed0a2b0-e5cf-4777-b27d-49ecf1bda4c1",
   "metadata": {},
   "outputs": [],
   "source": [
    "# let's keep the nationality of the arbitrator only \n",
    "def arb_func(val):\n",
    "    if val is np.nan:    \n",
    "        return np.nan\n",
    "    else:    \n",
    "        Referee1 = val.split('(')[1]\n",
    "        referee_nationality = Referee1[:3] \n",
    "    return referee_nationality\n",
    "        \n",
    "df['Referee nationality'] = df['Referee'].map(arb_func)\n",
    "df.drop(['Referee'], axis = 1, inplace = True) "
   ]
  },
  {
   "cell_type": "code",
   "execution_count": null,
   "id": "496c554e-cc04-4b6b-bedb-a24a097dd679",
   "metadata": {},
   "outputs": [],
   "source": [
    "# delete the uninformed matches \n",
    "df_gflight.dropna(subset=['Home Team Name','Away Team Name' ], inplace=True)"
   ]
  },
  {
   "cell_type": "code",
   "execution_count": null,
   "id": "08160e13-2886-428b-af12-3e5b6ff6965e",
   "metadata": {},
   "outputs": [],
   "source": [
    "# replacing missing values \n",
    "df.isna().sum()\n",
    "df['Attendance'] = df['Attendance'].fillna(df['Attendance'].mean())"
   ]
  },
  {
   "cell_type": "code",
   "execution_count": null,
   "id": "6251305f-96fe-4f5f-a22f-42e1550a575d",
   "metadata": {},
   "outputs": [],
   "source": [
    "categorical_variable  = dict(df.dtypes[df.dtypes != 'int64'][df.dtypes != 'float64'])\n",
    "\n",
    "for elem in categorical_variable .keys() : \n",
    "    df[elem] = df[elem].astype('category')"
   ]
  },
  {
   "cell_type": "markdown",
   "id": "fe1b4f89-0029-41c7-b3dd-a139c2126dcf",
   "metadata": {
    "tags": []
   },
   "source": [
    "# We can now start the EDA"
   ]
  },
  {
   "cell_type": "code",
   "execution_count": null,
   "id": "afef105e-94bb-4039-96dd-a3a8bc03a305",
   "metadata": {},
   "outputs": [],
   "source": [
    "# continuous variables\n",
    "df.describe()"
   ]
  },
  {
   "cell_type": "markdown",
   "id": "30b54c9c-fbd3-4f03-bece-148f18ab6d89",
   "metadata": {},
   "source": [
    "- The majority of the games take place at 5pm, between the months of May and July \n",
    "- Attendance is heterogeneous, with an average of 45164.8 supporters  \n",
    "- The Home Team Goals scores more goals than the Away Team Goals \n",
    "- The majority of the goals are scored in the second period  "
   ]
  },
  {
   "cell_type": "code",
   "execution_count": null,
   "id": "fac79b76-73b5-4998-a23b-6f0f53d9759d",
   "metadata": {},
   "outputs": [],
   "source": [
    "# categorial variables \n",
    "df.describe(exclude = (['float64', 'int64']))"
   ]
  },
  {
   "cell_type": "markdown",
   "id": "f7a441fb-7f5a-47c7-888c-3bb8ecc104ae",
   "metadata": {},
   "source": [
    "- Most of the world cup games were played in Estadio Azteca, in Mexico City\t\n",
    "- Brazil is the country that has played the most games as a Home Team \n",
    "- Mexico is the country that has played the most games as Away Team\n",
    "- The majority of the referees are Italian "
   ]
  },
  {
   "cell_type": "code",
   "execution_count": null,
   "id": "1c2458aa-20df-4186-ae69-cdf5f9e74ee4",
   "metadata": {},
   "outputs": [],
   "source": [
    "#correlation matrix \n",
    "sns.heatmap(\n",
    "    100*df.corr(), \n",
    "    square=True, \n",
    "    annot=True, \n",
    "    fmt='.1f', \n",
    "    cmap=sns.cm.vlag )"
   ]
  },
  {
   "cell_type": "markdown",
   "id": "a655ce55-9483-47b2-bb7d-4e4f353bd3ce",
   "metadata": {},
   "source": [
    "- the more the years go by, the more Home Team Goals decreases\n",
    "- the more the years go by, the more attendance increase "
   ]
  },
  {
   "cell_type": "code",
   "execution_count": null,
   "id": "7cd10a73-a71f-4751-97e7-1807d78700a0",
   "metadata": {},
   "outputs": [],
   "source": [
    "sns.regplot(\n",
    "    df['Year'], df['Attendance'] , \n",
    "    scatter_kws = {'color': 'green'}, line_kws = {'color': 'red'} )"
   ]
  },
  {
   "cell_type": "code",
   "execution_count": null,
   "id": "51880b9e-70f1-4e53-a3af-8b4be1d111bf",
   "metadata": {},
   "outputs": [],
   "source": [
    "sns.regplot(\n",
    "    df['Year'], df['Home Team Goals'] , \n",
    "    scatter_kws = {'color': 'green'}, line_kws = {'color': 'red'} )"
   ]
  },
  {
   "cell_type": "code",
   "execution_count": null,
   "id": "1e068c67-d5bf-48d0-98d0-2409b4250dd1",
   "metadata": {},
   "outputs": [],
   "source": [
    "# let's take an interest in the games of the french team \n",
    "df_France = df['Home Team Name'] == 'France'\n",
    "df_filtered = df[df_France]\n",
    "df_filtered"
   ]
  },
  {
   "cell_type": "code",
   "execution_count": 1,
   "id": "87fe1f61-69b5-4342-a2a2-6882712234bc",
   "metadata": {},
   "outputs": [
    {
     "ename": "NameError",
     "evalue": "name 'df_filtered' is not defined",
     "output_type": "error",
     "traceback": [
      "\u001b[1;31m---------------------------------------------------------------------------\u001b[0m",
      "\u001b[1;31mNameError\u001b[0m                                 Traceback (most recent call last)",
      "\u001b[1;32m~\\AppData\\Local\\Temp/ipykernel_2964/793271606.py\u001b[0m in \u001b[0;36m<module>\u001b[1;34m\u001b[0m\n\u001b[1;32m----> 1\u001b[1;33m \u001b[0mdf_filtered\u001b[0m\u001b[1;33m.\u001b[0m\u001b[0mdescribe\u001b[0m\u001b[1;33m(\u001b[0m\u001b[0mexclude\u001b[0m \u001b[1;33m=\u001b[0m \u001b[1;33m(\u001b[0m\u001b[1;33m[\u001b[0m\u001b[1;34m'float64'\u001b[0m\u001b[1;33m,\u001b[0m \u001b[1;34m'int64'\u001b[0m\u001b[1;33m]\u001b[0m\u001b[1;33m)\u001b[0m\u001b[1;33m)\u001b[0m\u001b[1;33m\u001b[0m\u001b[1;33m\u001b[0m\u001b[0m\n\u001b[0m",
      "\u001b[1;31mNameError\u001b[0m: name 'df_filtered' is not defined"
     ]
    }
   ],
   "source": [
    "df_filtered.describe(exclude = (['float64', 'int64']))"
   ]
  },
  {
   "cell_type": "markdown",
   "id": "fcc21302-c39e-46f7-8087-3466a8609e29",
   "metadata": {},
   "source": [
    "\n",
    "The French team played most of its games in Spain, with a majority of the referees being Spanish. Mexico is the country most faced by France "
   ]
  },
  {
   "cell_type": "code",
   "execution_count": null,
   "id": "43aff1ba-268c-47b2-9649-8af9292ed2c3",
   "metadata": {},
   "outputs": [],
   "source": [
    "df_filtered.describe()"
   ]
  },
  {
   "cell_type": "markdown",
   "id": "1f6fe102-47ae-41bf-82a8-aa9f4a0e3b2c",
   "metadata": {},
   "source": [
    "On average, the French team scores more goals than it concedes, with an average attendance of  41870 \n"
   ]
  },
  {
   "cell_type": "code",
   "execution_count": null,
   "id": "a77b8e50-2bd5-41d8-a454-0bb9963c950c",
   "metadata": {},
   "outputs": [],
   "source": [
    "# let's take a look at the referees and the games of the french team \n",
    "df_filtered['Referee nationality'].hist(bins=16)"
   ]
  },
  {
   "cell_type": "code",
   "execution_count": null,
   "id": "39646dbe-54c4-4a77-b0f1-bbe07d020aae",
   "metadata": {},
   "outputs": [],
   "source": [
    "df_regroupement = df_filtered.pivot_table(\n",
    "    values=['Home Team Goals', 'Away Team Goals'],\n",
    "    index=['Referee nationality'], \n",
    "    aggfunc='median')\n",
    "df_regroupement.sort_values(by = ['Away Team Goals'])"
   ]
  },
  {
   "cell_type": "markdown",
   "id": "8f581505-2c5d-4777-b35a-051fa4e6a8e2",
   "metadata": {},
   "source": [
    "We notice that the colombian and english referees do not succeed too much for the french team in world cup "
   ]
  }
 ],
 "metadata": {
  "kernelspec": {
   "display_name": "Python 3 (ipykernel)",
   "language": "python",
   "name": "python3"
  },
  "language_info": {
   "codemirror_mode": {
    "name": "ipython",
    "version": 3
   },
   "file_extension": ".py",
   "mimetype": "text/x-python",
   "name": "python",
   "nbconvert_exporter": "python",
   "pygments_lexer": "ipython3",
   "version": "3.9.7"
  }
 },
 "nbformat": 4,
 "nbformat_minor": 5
}
